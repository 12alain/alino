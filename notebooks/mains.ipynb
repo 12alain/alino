{
 "cells": [
  {
   "cell_type": "code",
   "execution_count": null,
   "id": "22db6c07",
   "metadata": {},
   "outputs": [],
   "source": [
    "print('Hello, world!')"
   ]
  }
 ],
 "metadata": {},
 "nbformat": 4,
 "nbformat_minor": 5
}
